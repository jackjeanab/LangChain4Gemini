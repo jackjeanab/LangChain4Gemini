{
  "nbformat": 4,
  "nbformat_minor": 0,
  "metadata": {
    "colab": {
      "provenance": [],
      "authorship_tag": "ABX9TyOo74rU96YnIpWAu/07a7kA",
      "include_colab_link": true
    },
    "kernelspec": {
      "name": "python3",
      "display_name": "Python 3"
    },
    "language_info": {
      "name": "python"
    }
  },
  "cells": [
    {
      "cell_type": "markdown",
      "metadata": {
        "id": "view-in-github",
        "colab_type": "text"
      },
      "source": [
        "<a href=\"https://colab.research.google.com/github/jackjeanab/LangChain4Gemini/blob/main/5_2%E8%AA%8D%E8%AD%98RunnableSequence.ipynb\" target=\"_parent\"><img src=\"https://colab.research.google.com/assets/colab-badge.svg\" alt=\"Open In Colab\"/></a>"
      ]
    },
    {
      "cell_type": "code",
      "source": [
        "!pip install --upgrade --quiet  langchain-google-genai"
      ],
      "metadata": {
        "id": "ReaTKeK2ngJ6",
        "colab": {
          "base_uri": "https://localhost:8080/"
        },
        "outputId": "9340936f-b137-4488-ce7d-f917c723e308"
      },
      "execution_count": 1,
      "outputs": [
        {
          "output_type": "stream",
          "name": "stdout",
          "text": [
            "\u001b[?25l   \u001b[90m━━━━━━━━━━━━━━━━━━━━━━━━━━━━━━━━━━━━━━━━\u001b[0m \u001b[32m0.0/41.5 kB\u001b[0m \u001b[31m?\u001b[0m eta \u001b[36m-:--:--\u001b[0m\r\u001b[2K   \u001b[91m━━━━━━━━━━━━━━━━━━━━━━━━━━━━━━━━━━━━━━━\u001b[0m\u001b[90m╺\u001b[0m \u001b[32m41.0/41.5 kB\u001b[0m \u001b[31m8.4 MB/s\u001b[0m eta \u001b[36m0:00:01\u001b[0m\r\u001b[2K   \u001b[90m━━━━━━━━━━━━━━━━━━━━━━━━━━━━━━━━━━━━━━━━\u001b[0m \u001b[32m41.5/41.5 kB\u001b[0m \u001b[31m844.7 kB/s\u001b[0m eta \u001b[36m0:00:00\u001b[0m\n",
            "\u001b[?25h"
          ]
        }
      ]
    },
    {
      "cell_type": "code",
      "source": [
        "from langchain_core.runnables import RunnableSequence\n",
        "from langchain_core.prompts import ChatPromptTemplate\n",
        "from langchain_google_genai import ChatGoogleGenerativeAI\n",
        "from langchain_core.output_parsers import StrOutputParser\n"
      ],
      "metadata": {
        "id": "d0ahiK4AEBVP"
      },
      "execution_count": 2,
      "outputs": []
    },
    {
      "cell_type": "code",
      "source": [
        "import os\n",
        "from google.colab import userdata\n",
        "\n",
        "# Get the API key\n",
        "os.environ[\"GOOGLE_API_KEY\"] = userdata.get(\"GOOGLE_API_KEY\")\n",
        "\n",
        "# Initialize the Gemini Pro model\n",
        "# Use \"gemini-2.0-flash-exp\"\n",
        "llm_gemini20 = ChatGoogleGenerativeAI(\n",
        "    model=\"gemini-2.0-flash-exp\",\n",
        "    temperature=0.5)\n",
        "\n",
        "llm_gemini15 = ChatGoogleGenerativeAI(\n",
        "    model=\"gemini-1.5-pro-latest\",\n",
        "    temperature=0.5)"
      ],
      "metadata": {
        "id": "ikLoZ4ROQabJ"
      },
      "execution_count": 3,
      "outputs": []
    },
    {
      "cell_type": "code",
      "source": [
        "# 建立提示樣板\n",
        "chinese_prompt = ChatPromptTemplate.from_messages(\n",
        "    [(\"system\", \"你是一位短文寫作高手，將以使用者指定的主題進行寫作創作\"), (\"user\", \"{topic}\")]\n",
        ")\n",
        "\n",
        "translation_prompt = ChatPromptTemplate.from_messages(\n",
        "    [(\"system\", \"你是一位中英文語言專家，負責中文英的翻譯工作，翻譯的品質必須確保不可以失去文章內容原意，你的輸出結果必須符合以下格式\\n\\n 中文文章:..... ; 英文文章:....\"), (\"user\", \"{chinese_article}\")]\n",
        ")\n"
      ],
      "metadata": {
        "id": "fv_KkOHBQpYm"
      },
      "execution_count": 4,
      "outputs": []
    },
    {
      "cell_type": "code",
      "source": [
        "# 使用 LCEL 表達式建立工作流程\n",
        "work_flow = chinese_prompt | llm_gemini20 | translation_prompt | llm_gemini15 | StrOutputParser()\n",
        "\n",
        "print(work_flow.invoke({\"topic\":\"花蓮縣花崗國中簡介\"}))"
      ],
      "metadata": {
        "id": "3bNXIx1yFkbq",
        "colab": {
          "base_uri": "https://localhost:8080/"
        },
        "outputId": "d0b2b32b-c4d5-44a7-a94e-e1830640b905"
      },
      "execution_count": 14,
      "outputs": [
        {
          "output_type": "stream",
          "name": "stdout",
          "text": [
            "中文文章:花蓮縣立花崗國民中學，簡稱花崗國中，座落於花蓮市區，背倚美崙山，校園綠意盎然，環境清幽。創校至今已逾數十年，是花蓮地區歷史悠久、深具傳統的學府之一。\n",
            "\n",
            "花崗國中秉持著「敦品勵學、多元發展」的教育理念，致力於培養學生成為具備獨立思考、樂於學習、關懷社會的未來公民。學校除了重視學科知識的傳授，更積極推動多元化的社團活動，鼓勵學生發展個人興趣與潛能，在德、智、體、群、美各方面均衡發展。\n",
            "\n",
            "近年來，花崗國中在各項競賽中屢獲佳績，展現師生共同努力的成果。學校也積極推動國際教育，拓展學生的國際視野。花崗國中不僅是學習的園地，更是學生們成長、茁壯的溫馨家園。 ; 英文文章:Hualien County Hua-Kang Junior High School, or Hua-Kang Junior High for short, is located in Hualien City.  Nestled against Meilun Mountain, the school boasts a lush, tranquil campus.  Established for over several decades, it is one of the oldest and most tradition-rich educational institutions in Hualien.\n",
            "\n",
            "Hua-Kang Junior High upholds the educational philosophy of \"moral character cultivation, diligent learning, and diverse development.\"  It is dedicated to nurturing students into future citizens capable of independent thinking, eager learning, and social responsibility.  In addition to emphasizing academic knowledge, the school actively promotes diverse club activities, encouraging students to develop their individual interests and potential, fostering balanced development in moral, intellectual, physical, social, and aesthetic aspects.\n",
            "\n",
            "In recent years, Hua-Kang Junior High has consistently achieved outstanding results in various competitions, demonstrating the fruits of joint efforts by teachers and students. The school also actively promotes international education to broaden students' global perspectives. Hua-Kang Junior High is not only a place of learning but also a warm and nurturing home where students grow and thrive.\n"
          ]
        }
      ]
    }
  ]
}